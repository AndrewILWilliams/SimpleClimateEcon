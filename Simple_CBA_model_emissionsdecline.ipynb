{
 "cells": [
  {
   "cell_type": "code",
   "execution_count": 31,
   "metadata": {},
   "outputs": [],
   "source": [
    "import numpy as np\n",
    "import matplotlib.pyplot as plt"
   ]
  },
  {
   "cell_type": "code",
   "execution_count": 63,
   "metadata": {},
   "outputs": [],
   "source": [
    "\"\"\"Constants\"\"\"\n",
    "gamma= 2\n",
    "W_0  = 75*10**12 # 2005 $\n",
    "D_0  = 0.00267\n",
    "T_0  = 0.9   # C\n",
    "ks   = 0.12  # /yr\n",
    "kd   = 0.015 #1.5% (=r-g)\n",
    "TCRE = 0.00054 #c/GtC02\n",
    "g    = 0.02 # %/yr\n",
    "E_0  = 39 # GtC02/yr, 2014 emission rate\n",
    "A_E  = 0.01325/2 # By requiring SCC~MAC at t=0, get A_E~0.01325"
   ]
  },
  {
   "cell_type": "code",
   "execution_count": 64,
   "metadata": {},
   "outputs": [],
   "source": [
    "\"\"\"Initialize\"\"\"\n",
    "n=0\n",
    "years     = np.linspace(2005, n+2100, n+96)\n",
    "arr_temps = np.linspace(T_0, 5, n+96)\n",
    "\n",
    "arr_emiss=np.zeros(n+96)\n",
    "\n",
    "\"\"\"Run main loop\"\"\"\n",
    "for idx, year in enumerate(years):\n",
    "    arr_emiss[idx]=np.divide(A_E*kd,gamma*D_0*TCRE*arr_temps[idx])"
   ]
  },
  {
   "cell_type": "code",
   "execution_count": 65,
   "metadata": {},
   "outputs": [
    {
     "data": {
      "text/plain": [
       "[<matplotlib.lines.Line2D at 0x1140fc490>]"
      ]
     },
     "execution_count": 65,
     "metadata": {},
     "output_type": "execute_result"
    },
    {
     "data": {
      "image/png": "[encoded data removed]",
      "text/plain": [
       "<Figure size 432x288 with 1 Axes>"
      ]
     },
     "metadata": {
      "needs_background": "light"
     },
     "output_type": "display_data"
    }
   ],
   "source": [
    "plt.plot(np.arange(n+96), arr_emiss)"
   ]
  },
  {
   "cell_type": "code",
   "execution_count": null,
   "metadata": {},
   "outputs": [],
   "source": []
  },
  {
   "cell_type": "code",
   "execution_count": null,
   "metadata": {},
   "outputs": [],
   "source": []
  }
 ],
 "metadata": {
  "kernelspec": {
   "display_name": "Python 3",
   "language": "python",
   "name": "python3"
  },
  "language_info": {
   "codemirror_mode": {
    "name": "ipython",
    "version": 3
   },
   "file_extension": ".py",
   "mimetype": "text/x-python",
   "name": "python",
   "nbconvert_exporter": "python",
   "pygments_lexer": "ipython3",
   "version": "3.7.4"
  }
 },
 "nbformat": 4,
 "nbformat_minor": 4
}
