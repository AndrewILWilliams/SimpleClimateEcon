{
 "cells": [
  {
   "cell_type": "markdown",
   "metadata": {},
   "source": [
    "# Simple Cost-Benefit Analysis model for understanding changes in future emissions\n",
    "## Following M.R.Allen (2016)\n",
    "\n",
    "### 1) Climate component:\n",
    "\n",
    "**Transient Climate Response to cumulative CO$_{2}$ Emissions (TCRE)**\n",
    "\n",
    "We can parameterize the globally averaged temperature response $\\Delta T$ to increases in CO$_{2}$ by considering the fact that across most ESMs and for a variety of different emissions scenarios, \n",
    "\n",
    "$$\\Delta T_{t}\\,\\, \\alpha  \\int E(t)dt$$\n",
    "\n",
    "$$\\implies \\frac{d\\Delta T}{dt} = \\Lambda E(t)$$\n",
    "\n",
    "Where $\\Lambda$ is the TCRE and $\\Lambda = 0.00054 \\, [^{\\circ}\\text{C}/ \\text{GtCO}_{2}]$ \n",
    "\n",
    "### 2) Economic variables: Climate-induced Damages\n",
    "\n",
    "To have any sort of 'cost-benefit' analysis approach to climate economics, we need some conception of the economic damages due to climate change. Traditionally in most Integrated Assessment Models (IAMs) this is some function:\n",
    "\n",
    "$$\\frac{L}{W}=f(\\Delta T)$$\n",
    "\n",
    "Where $L$ is the damages\\losses due to climate change  [\\\\$ /yr ] and $W$ is the total annual global consumption (inflation-adjusted output minus investments), also in [\\\\$ /yr]. $f(\\Delta T)$ is the 'damage function', often a linear or polynomial function of temperature. It is assumed here (as in basically all other IAMs) that the losses due to climate change are small enough such that $W_{t}$ continues to grow at a rate of 2 %/yr throughout the forward integration of the model.\n",
    "\n",
    "In this model, we use a flexible and simple form for the damage function at time $t$, as follows:\n",
    "\n",
    "$$L_{t}=D_{0}W_{t}\\Delta T_{t}^{\\gamma}$$\n",
    "\n",
    "Here, $D_{0}$ is the fractional loss to world GDP (measured by $W_{t}$) caused by $1^{\\circ}$C of warming, and $\\gamma$ determines how impacts accelerate at higher temperatures.\n",
    "\n",
    "### 3) Economic variables: the Social Cost of Carbon (SCC)\n",
    "\n",
    "The social cost of carbon is defined as the 'cost' of future climate damages caused by the 'pulse' release of an additional tonne of CO$_{2}$ into the atmosphere. It’s value matters because, on some ways of thinking about the mitigation problem, it determines how much we “should” invest in reducing emissions, or how high we should set a carbon tax. \n",
    "\n",
    "Mathematically, it is defined using conventional time-discounting as:\n",
    "\n",
    "$$SCC_{t} = \\int_{t^{'}=t}^{\\infty}dt^{'}\\delta L^{pulse}_{t+t^{'}}e^{-r(t^{'}-t)}$$\n",
    "\n",
    "Here, $\\delta L^{pulse}_{t+t^{'}}$ is the marginal impact on $L$ at time $t+t^{'}$ resulting from the emission of one tonne of CO$_{2}$ at time $t$. Also, the discount rate $r$ follows a Ramsey discounting model such that $r=\\rho + \\eta g$, where $\\rho$ is the pure-rate of time preferencing, $g$=2%/yr and $\\eta$ is some measure of aversion to inequality, or the 'Elasticity of Marginal Utility of Consumption'...\n",
    "\n",
    "To calculate the $SCC_{t}$, we first need to unpack the integrand a bit:\n",
    "\n",
    "$$\\delta L^{pulse}_{t+t'}= \\bigg(\\frac{\\partial L}{\\partial T}\\bigg)_{t^{'}} \\delta T_{t+t^{'}} = \\gamma D_{0}W_{t^{'}}\\Delta T_{t+t^{'}}^{\\gamma-1} \\, \\delta T_{t+t^{'}}$$\n",
    "\n",
    "Now, from before, the observation that global temperatures increase in line with cumulative CO$_{2}$emissions suggests a very simple expression for the temperature response to a pulse emission of an additional tonne of CO$_{2}$ at time $t$:\n",
    "\n",
    "$$\\delta T_{t+t^{'}}=\\Lambda \\big( 1-e^{-k_{s}(t^{'}-t)} \\big)$$\n",
    "\n",
    "\n",
    "where $k_{s}^{-1}$ is the initial pulse-adjustment timescale of the climate system, which is of the order of a decade or less, and $\\Lambda$ is the transient climate response to cumulative carbon emissions, defined in (1). Despite it's simplicity, this form has been vindicated with experiments in fully-complexity ESMs and holds up well!\n",
    "\n",
    "Now, here comes the interesting bit...because the $SCC_{t}$ is an integral over all future temperatures for all future times $t^{'}>t$, in the words of the Stern Review (2007):\n",
    "\n",
    ">>\"*We cannot sensibly calculate an SCC without assuming that future emissions and stocks will follow some specified path. For different specified paths, the SCC will be different. For example, it will be much higher on a ‘business as usual’ path than it will be on a path that cuts emissions strongly and eventually stabilises concentrations. It is remarkable how often SCC calculations are vague on this crucial point.*\"\n",
    "\n",
    "Hence, to calculate the $SCC$ at some time $t$, we need to make an assumption about how the near-term temperatures will evolve! **N.B. We only need to specify how the near-term temperatures will evolve because after a timescale of $\\sim \\mathcal{O}((r-g)^{-1})$, the impact of temperature on the $SCC_{t}$ will be minimal.**\n",
    "\n",
    "In light of this, and again following the work of Allen (2016), we parameterize $\\Delta T_{t+t^{'}}= \\Delta T_{t} + \\dot{T_{t}}t^{'}$, and here we make use of the TCRE yet again to argue that at time $t$ the annual rate of change of temperature is $\\dot{T_{t}}=\\Lambda E_{t}$. Combining all of these parameterizations into our original integral expression for the $SCC_{t}$, we arrive at:\n",
    "\n",
    "$$SCC_{t} = \\int_{t^{'}=t}^{\\infty}dt^{'}\\delta L_{t+t^{'}}^{pulse} e^{-r(t^{'}-t)}$$\n",
    "\n",
    "$$SCC_{t} = \\int_{t^{'}=t}^{\\infty}dt^{'}\\gamma D_{0}W_{t^{'}}\\Delta T_{t+t^{'}}^{\\gamma-1} \\, \\delta T_{t+t^{'}}e^{-r(t^{'}-t)}$$\n",
    "\n",
    "$$\\text{Using } W_{t}=W_{0}e^{gt}$$\n",
    "\n",
    "$$SCC_{t} = \\int_{t^{'}=t}^{\\infty}dt^{'}\\gamma D_{0}W_0 e^{g(t^{'}-t)}\\Delta T_{t+t^{'}}^{\\gamma-1} \\, \\delta T_{t+t^{'}}e^{-r(t^{'}-t)} $$\n",
    "\n",
    "$$SCC_{t} = \\int_{t^{'}=t}^{\\infty}dt^{'}\\gamma D_{0}W_0\\Delta T_{t+t^{'}}^{\\gamma-1} \\, \\delta T_{t+t^{'}}e^{-(r-g)(t^{'}-t)}$$\n",
    "\n",
    "$$\\text{Substituting for }\\delta T_{t+t^{'}}\\text{ and dropping the }\\Delta \\text{s for a moment:}$$\n",
    "\n",
    "$$SCC_{t} = \\int_{t^{'}=t}^{\\infty}dt^{'}\\gamma D_{0}W_{0}T_{t+t^{'}}^{\\gamma-1} \\, \\Lambda \\big( 1-e^{-k_{s}(t^{'}-t)}\\big) e^{-(r-g)(t^{'}-t)}$$\n",
    "\n",
    "$$\\text{Taking constants outside of the integral and using }T_{t+t^{'}}= T_{t} + \\dot{T_{t}}t^{'}:$$\n",
    "\n",
    "$$SCC_{t} = \\gamma D_{0}W_{0} \\Lambda \\int_{t^{'}=t}^{\\infty}dt^{'} (T_{t} + \\dot{T_{t}}t^{'})^{\\gamma-1} \\big( 1-e^{-k_{s}(t^{'}-t)}\\big) e^{-(r-g)(t^{'}-t)}$$\n",
    "\n",
    "Integrating this awful expression yields a final answer of (with $\\Delta$s back in again):\n",
    "\n",
    "$$SCC_{t}=\\gamma \\Lambda D_{0} W_{0} \\Delta T_{t}^{\\gamma-1} \\bigg[ \\bigg( \\frac{1}{r-g} - \\frac{1}{k_{s}+r-g}\\bigg) +\\frac{(\\gamma-1)\\dot{T_{t}}}{\\Delta T_{t}}\\bigg( \\frac{1}{(r-g)^{2}} - \\frac{1}{(k_{s}+r-g)^{2}}\\bigg) \\bigg]$$\n",
    "Yeehaw!\n",
    "\n",
    "### 4) Economic variables: Marginal Cost of Abatement (MAC) and Cost-Benefit Analysis\n",
    "\n",
    "The marginal costs of abatement (reducing emissions by one 'unit' of CO$_{2}$) are hotly contested, but most estimates suggest that the cost (per tonne per year) of reducing emissions goes up the more you reduce (easy options get used up first). So a simple formula would be:\n",
    "\n",
    "$$MAC_{t} = \\frac{A_{E}W_{t}}{E_{t}}$$\n",
    "\n",
    "where $E_{t}$ is the current rate of emission and $A_{E}$ (the initial MAC times the carbon intensity of consumption) is approximately constant.\n",
    "\n",
    "\n",
    "Under this framework, where we have some measure of the 'damages' of emitting another tCO$_{2}$ (the $SCC_{t}$) and also have some measure of how much it would cost to **not** emit that CO$_{2}$, the cost-benefit 'optimal' solution suggests that a “rational” rate of emission is when the cost of further abatement exceeds the discounted social cost of emissions:\n",
    "\n",
    "$$MAC_{t}=SCC_{t}$$\n",
    "\n",
    "In our scenario, given that the $SCC_{t}$ is only a weak function of current emissions, we can use this optimal framework to 'back-out' what the adjusted emissions should be at time $t+1$ given a certain rate of emission $E_{t}$ at time $t$ (leading to a certain social cost of carbon).\n",
    "\n",
    "$$E_{t+1} = \\frac{A_{E}W_{t}}{SCC_{t}}$$\n",
    "\n",
    "### 5) Summary:\n",
    "\n",
    "Ok, so that was a LOT of work! But what have we come to so far? Well, if we're interested in learning about how an idealized model of the coupled climate-economy system might evolve in the future, we are prudent to work in the simple cost-benefit optimal framework outlined above: the emissions at each timestep adjust to maintain equality between the social cost of carbon at time $t$, $SCC_{t}$, and the marginal cost of abatement at time $t$, $MAC_{t}$. \n",
    "\n",
    "However, we're discovered the difficulty of specifying what the $SCC_{t}$ is based off of known variables, without making some assumptions. Here we've made some assumption about how the near-term temperatures will evolve over the next decade or so after time $t$, which allows us to close the equation set and find something which is internally (somewhat) consistent."
   ]
  },
  {
   "cell_type": "markdown",
   "metadata": {},
   "source": [
    "## Code up the model and integrate forward in time!"
   ]
  },
  {
   "cell_type": "code",
   "execution_count": 21,
   "metadata": {},
   "outputs": [],
   "source": [
    "import numpy as np\n",
    "import matplotlib.pyplot as plt"
   ]
  },
  {
   "cell_type": "code",
   "execution_count": 195,
   "metadata": {},
   "outputs": [],
   "source": [
    "\"\"\"Constants\"\"\"\n",
    "gamma= 2\n",
    "W_0  = 75*10**12 # 2005 $\n",
    "D_0  = 0.00267\n",
    "T_0  = 0.9   # C\n",
    "ks   = 0.12  # /yr\n",
    "kd   = 0.015 #1.5% (=r-g)\n",
    "TCRE = 0.00054 #c/GtC02\n",
    "g    = 0.02 # %/yr\n",
    "E_0  = 39 # GtC02/yr, 2014 emission rate"
   ]
  },
  {
   "cell_type": "code",
   "execution_count": 246,
   "metadata": {},
   "outputs": [],
   "source": [
    "\"\"\"Functions\"\"\"\n",
    "def increment_T(T, dTdt):\n",
    "    return T+dTdt\n",
    "\n",
    "def dTdt(E):\n",
    "    return TCRE*E\n",
    "\n",
    "def SCC(year, T, dTdt):\n",
    "    prefactor=gamma * TCRE * D_0 * W_0 * np.exp(g*(year-2005)) * T**(gamma-1)\n",
    "    bracket  = np.divide(1, kd) - np.divide(1,ks+kd) + np.divide((gamma-1)*dTdt, T)*( np.divide(1, kd)**2 - np.divide(1, ks+kd)**2 )\n",
    "    return prefactor*bracket*10**-9\n",
    "\n",
    "def MAC(E, year):\n",
    "    \"\"\"Not used!!!\"\"\"\n",
    "    A_0 = 0.01 # By requiring SCC~MAC at t=0\n",
    "    Wt  = W_0 * np.exp(g*(year-2005))\n",
    "    \n",
    "    return np.divide(A_0*Wt, E*10**9)\n",
    "\n",
    "def invert_CBA(SCC,year):\n",
    "    A_0 = 0.01325 # By requiring SCC~MAC at t=0, ~0.01325\n",
    "    Wt  = W_0 * np.exp(g*(year-2005))\n",
    "    return np.divide(A_0*Wt, SCC)*10**-9"
   ]
  },
  {
   "cell_type": "code",
   "execution_count": 247,
   "metadata": {},
   "outputs": [],
   "source": [
    "\"\"\"Initialize\"\"\"\n",
    "n=0\n",
    "years = np.linspace(2005, n+2100, n+96)\n",
    "arr_temps = np.zeros(n+97)\n",
    "arr_dTdt  = np.zeros(n+97)\n",
    "arr_emiss = np.zeros(n+97)\n",
    "arr_SCC   = np.zeros(n+97)\n",
    "\n",
    "arr_temps[0]=T_0\n",
    "arr_emiss[0]=E_0\n",
    "\n",
    "\"\"\"Run main loop\"\"\"\n",
    "for idx, year in enumerate(years):\n",
    "    arr_dTdt[idx]    = dTdt(arr_emiss[idx])\n",
    "\n",
    "    arr_temps[idx+1] = increment_T(arr_temps[idx], arr_dTdt[idx])\n",
    "    #print(year, arr_temps[idx], arr_dTdt[idx])\n",
    "    \n",
    "    arr_SCC[idx]     = SCC(year, arr_temps[idx], arr_dTdt[idx])\n",
    "    #print(arr_SCC[idx])\n",
    "    arr_emiss[idx+1] = invert_CBA(arr_SCC[idx], year)"
   ]
  },
  {
   "cell_type": "markdown",
   "metadata": {},
   "source": [
    "## Plot outputs"
   ]
  },
  {
   "cell_type": "code",
   "execution_count": 248,
   "metadata": {},
   "outputs": [
    {
     "data": {
      "text/plain": [
       "(-1, 40)"
      ]
     },
     "execution_count": 248,
     "metadata": {},
     "output_type": "execute_result"
    },
    {
     "data": {
      "image/png": "[encoded data removed]",
      "text/plain": [
       "<Figure size 432x288 with 1 Axes>"
      ]
     },
     "metadata": {
      "needs_background": "light"
     },
     "output_type": "display_data"
    }
   ],
   "source": [
    "plt.plot(np.arange(n+96)+2005, arr_emiss[:-1])\n",
    "\n",
    "plt.ylabel('Emissions [GtCO2/yr]')\n",
    "plt.xlabel('Year')\n",
    "plt.ylim(-1, 40)"
   ]
  },
  {
   "cell_type": "code",
   "execution_count": 249,
   "metadata": {},
   "outputs": [
    {
     "data": {
      "text/plain": [
       "Text(0.5, 0, 'Year')"
      ]
     },
     "execution_count": 249,
     "metadata": {},
     "output_type": "execute_result"
    },
    {
     "data": {
      "image/png": "[encoded data removed]",
      "text/plain": [
       "<Figure size 432x288 with 1 Axes>"
      ]
     },
     "metadata": {
      "needs_background": "light"
     },
     "output_type": "display_data"
    }
   ],
   "source": [
    "plt.plot(np.arange(n+96)+2005, arr_SCC[:-1])\n",
    "\n",
    "plt.ylabel('SCC [$/tCO2]')\n",
    "plt.xlabel('Year')"
   ]
  },
  {
   "cell_type": "code",
   "execution_count": 250,
   "metadata": {},
   "outputs": [
    {
     "data": {
      "text/plain": [
       "Text(0.5, 0, 'Year')"
      ]
     },
     "execution_count": 250,
     "metadata": {},
     "output_type": "execute_result"
    },
    {
     "data": {
      "image/png": "[encoded data removed]",
      "text/plain": [
       "<Figure size 432x288 with 1 Axes>"
      ]
     },
     "metadata": {
      "needs_background": "light"
     },
     "output_type": "display_data"
    }
   ],
   "source": [
    "plt.plot(np.arange(n+96)+2005, arr_temps[:-1])\n",
    "plt.ylim(0, 5)\n",
    "plt.ylabel(r'Global temp anomaly [K]')\n",
    "plt.xlabel('Year')"
   ]
  },
  {
   "cell_type": "code",
   "execution_count": 245,
   "metadata": {},
   "outputs": [
    {
     "data": {
      "text/plain": [
       "Text(0.5, 0, 'Year')"
      ]
     },
     "execution_count": 245,
     "metadata": {},
     "output_type": "execute_result"
    },
    {
     "data": {
      "image/png": "[encoded data removed]",
      "text/plain": [
       "<Figure size 432x288 with 1 Axes>"
      ]
     },
     "metadata": {
      "needs_background": "light"
     },
     "output_type": "display_data"
    }
   ],
   "source": [
    "plt.plot(np.arange(n+96)+2005, arr_dTdt[:-1])\n",
    "\n",
    "plt.ylabel(r'Temp gradient [K/yr]')\n",
    "plt.xlabel('Year')"
   ]
  },
  {
   "cell_type": "code",
   "execution_count": null,
   "metadata": {},
   "outputs": [],
   "source": []
  },
  {
   "cell_type": "code",
   "execution_count": null,
   "metadata": {},
   "outputs": [],
   "source": []
  }
 ],
 "metadata": {
  "kernelspec": {
   "display_name": "Python 3",
   "language": "python",
   "name": "python3"
  },
  "language_info": {
   "codemirror_mode": {
    "name": "ipython",
    "version": 3
   },
   "file_extension": ".py",
   "mimetype": "text/x-python",
   "name": "python",
   "nbconvert_exporter": "python",
   "pygments_lexer": "ipython3",
   "version": "3.7.4"
  }
 },
 "nbformat": 4,
 "nbformat_minor": 4
}
